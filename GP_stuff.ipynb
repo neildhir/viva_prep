{
 "cells": [
  {
   "cell_type": "markdown",
   "metadata": {},
   "source": [
    "From: https://github.com/keyonvafa/Gaussian-Process"
   ]
  },
  {
   "cell_type": "code",
   "execution_count": 23,
   "metadata": {},
   "outputs": [],
   "source": [
    "import numpy as np\n",
    "from matplotlib import rcParams\n",
    "import matplotlib.pyplot as plt\n",
    "from sklearn import linear_model\n",
    "import seaborn as sns\n",
    "%matplotlib inline"
   ]
  },
  {
   "cell_type": "code",
   "execution_count": 24,
   "metadata": {},
   "outputs": [],
   "source": [
    "rcParams['figure.figsize'] = (10.0, 7.0)\n",
    "sns.set_style(\"whitegrid\")\n",
    "sns.set_context(\"notebook\")"
   ]
  },
  {
   "cell_type": "markdown",
   "metadata": {},
   "source": [
    "# Gaussian process regression"
   ]
  },
  {
   "cell_type": "markdown",
   "metadata": {},
   "source": [
    "Add some toy data to perform regression over."
   ]
  },
  {
   "cell_type": "code",
   "execution_count": 6,
   "metadata": {},
   "outputs": [],
   "source": [
    "x = np.array([-1.5,-.9,-.75,-.6,-.25,0])\n",
    "y = np.array([-1.8,-1.2,-.3,.2,.5,.6])"
   ]
  },
  {
   "cell_type": "markdown",
   "metadata": {},
   "source": [
    "Plot to see distribution"
   ]
  },
  {
   "cell_type": "code",
   "execution_count": 25,
   "metadata": {},
   "outputs": [
    {
     "data": {
      "text/plain": [
       "<matplotlib.collections.PathCollection at 0x7f48f0ba8630>"
      ]
     },
     "execution_count": 25,
     "metadata": {},
     "output_type": "execute_result"
    },
    {
     "data": {
      "image/png": "[encoded data removed]",
      "text/plain": [
       "<matplotlib.figure.Figure at 0x7f48f82ec470>"
      ]
     },
     "metadata": {},
     "output_type": "display_data"
    }
   ],
   "source": [
    "plt.scatter(x,y)"
   ]
  },
  {
   "cell_type": "markdown",
   "metadata": {},
   "source": [
    "Setup a linear regression model to test"
   ]
  },
  {
   "cell_type": "code",
   "execution_count": 39,
   "metadata": {},
   "outputs": [
    {
     "data": {
      "text/plain": [
       "[<matplotlib.lines.Line2D at 0x7f48f07c8e48>]"
      ]
     },
     "execution_count": 39,
     "metadata": {},
     "output_type": "execute_result"
    },
    {
     "data": {
      "image/png": "[encoded data removed]",
      "text/plain": [
       "<matplotlib.figure.Figure at 0x7f48f08329b0>"
      ]
     },
     "metadata": {},
     "output_type": "display_data"
    }
   ],
   "source": [
    "x_train = [[x[i]] for i in range(len(x))]\n",
    "y_train = [[y[i]] for i in range(len(y))]\n",
    "# instantiate model\n",
    "linreg = linear_model.LinearRegression()\n",
    "# fit model with data\n",
    "linreg.fit(x_train,y_train)\n",
    "# visualise fit on data\n",
    "plt.scatter(x,y,marker='x',color='k')\n",
    "plt.plot(x_train,linreg.predict(x_train),color='r',lw=3)"
   ]
  },
  {
   "cell_type": "markdown",
   "metadata": {},
   "source": [
    "Pretty poor fit overall."
   ]
  },
  {
   "cell_type": "markdown",
   "metadata": {},
   "source": [
    "### Use GP with optimised hyperparamters for this model class"
   ]
  },
  {
   "cell_type": "code",
   "execution_count": 60,
   "metadata": {},
   "outputs": [],
   "source": [
    "# fold noise into the kernel by using the Kroenecker delta iff x == xx\n",
    "x = np.array([-1.5,-.9,-.75,-.6,-.25,0])\n",
    "y = np.array([-1.8,-1.2,-.3,.2,.5,.6])\n",
    "sigma_n = np.var(y)\n",
    "n = len(y)"
   ]
  },
  {
   "cell_type": "code",
   "execution_count": 58,
   "metadata": {},
   "outputs": [],
   "source": [
    "# build funky kernel (still not sure why this one was used)\n",
    "def kernel(x,xx,theta1,theta2):\n",
    "    \"\"\"\n",
    "    x :: first independent input\n",
    "    xx :: second independent input\n",
    "    \"\"\"\n",
    "    l = np.exp(theta1)\n",
    "    sigma = np.exp(2*theta2)\n",
    "    # Kroenecker delta used on far right\n",
    "    return sigma * np.exp( -((x - xx) ** 2)/l ) + sigma_n*int(x == xx)\n",
    "\n",
    "def make_K(theta1,theta2):\n",
    "    \"\"\"\n",
    "    Populate covariance matrix (i.e. initialise for optimisation)\n",
    "    \"\"\"\n",
    "    K = np.zeros((n,n))\n",
    "    for i in range(n):\n",
    "        for j in range(n):\n",
    "            K[i,j] = kernel(x[i],x[j],theta1,theta2)\n",
    "    return K\n",
    "\n",
    "# first partial derivative\n",
    "def dK_theta1(theta1,theta2):\n",
    "    l = np.exp(theta1)\n",
    "    sigma = np.exp(2*theta2)\n",
    "    # partial derivatives in a matrix\n",
    "    K = np.zeros((n,n))\n",
    "    for x in range(n):\n",
    "        for xx in range(n):\n",
    "            K[i,j] = sigma*np.exp((-(x[i]-x[j])**2)/l)*((x[i]-x[j])**2)/l\n",
    "    return K\n",
    "\n",
    "# second partial derivative\n",
    "def dK_theta2(theta1,theta2):\n",
    "    l = np.exp(theta1)\n",
    "    sigma = np.exp(2*theta2)\n",
    "    # partial derivatives in a matrix\n",
    "    K = np.zeros((n,n))\n",
    "    for i in range(n):\n",
    "        for j in range(n):\n",
    "            K[i,j] = 2*sigma*np.exp((-(x[i]-x[j])**2)/l)\n",
    "    return K\n",
    "\n",
    "# Log likelihood gradient \n",
    "def logLikGrad(theta1,theta2):\n",
    "    w = np.zeros(2) # of size two since we only have two hypers in kernel\n",
    "    K = make_K(theta1,theta2)\n",
    "    Kinv = np.linalg.inv(K) # get inverse \n",
    "    \n",
    "    "
   ]
  }
 ],
 "metadata": {
  "kernelspec": {
   "display_name": "Python 3",
   "language": "python",
   "name": "python3"
  },
  "language_info": {
   "codemirror_mode": {
    "name": "ipython",
    "version": 3
   },
   "file_extension": ".py",
   "mimetype": "text/x-python",
   "name": "python",
   "nbconvert_exporter": "python",
   "pygments_lexer": "ipython3",
   "version": "3.5.2"
  }
 },
 "nbformat": 4,
 "nbformat_minor": 2
}
