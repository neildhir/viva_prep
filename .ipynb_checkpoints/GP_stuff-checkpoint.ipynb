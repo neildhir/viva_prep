{
 "cells": [
  {
   "cell_type": "markdown",
   "metadata": {},
   "source": [
    "From: https://github.com/keyonvafa/Gaussian-Process"
   ]
  },
  {
   "cell_type": "code",
   "execution_count": 1,
   "metadata": {},
   "outputs": [],
   "source": [
    "# numerical\n",
    "import emcee\n",
    "import numpy as np\n",
    "from sklearn import linear_model\n",
    "# plotting\n",
    "from matplotlib import rcParams\n",
    "import matplotlib.pyplot as plt\n",
    "import seaborn as sns"
   ]
  },
  {
   "cell_type": "code",
   "execution_count": 2,
   "metadata": {},
   "outputs": [],
   "source": [
    "%matplotlib inline\n",
    "%config IPython.matplotlib.backend = \"retina\"\n",
    "rcParams['figure.figsize'] = (10.0, 7.0)\n",
    "sns.set_style(\"whitegrid\")\n",
    "sns.set_context(\"notebook\")"
   ]
  },
  {
   "cell_type": "markdown",
   "metadata": {},
   "source": [
    "# Gaussian process regression"
   ]
  },
  {
   "cell_type": "markdown",
   "metadata": {},
   "source": [
    "Add some toy data to perform regression over."
   ]
  },
  {
   "cell_type": "code",
   "execution_count": 6,
   "metadata": {},
   "outputs": [],
   "source": [
    "x = np.array([-1.5,-.9,-.75,-.6,-.25,0])\n",
    "y = np.array([-1.8,-1.2,-.3,.2,.5,.6])"
   ]
  },
  {
   "cell_type": "markdown",
   "metadata": {},
   "source": [
    "Plot to see distribution"
   ]
  },
  {
   "cell_type": "code",
   "execution_count": 25,
   "metadata": {},
   "outputs": [
    {
     "data": {
      "text/plain": [
       "<matplotlib.collections.PathCollection at 0x7f48f0ba8630>"
      ]
     },
     "execution_count": 25,
     "metadata": {},
     "output_type": "execute_result"
    },
    {
     "data": {
      "image/png": "[encoded data removed]",
      "text/plain": [
       "<matplotlib.figure.Figure at 0x7f48f82ec470>"
      ]
     },
     "metadata": {},
     "output_type": "display_data"
    }
   ],
   "source": [
    "plt.scatter(x,y)"
   ]
  },
  {
   "cell_type": "markdown",
   "metadata": {},
   "source": [
    "Setup a linear regression model to test"
   ]
  },
  {
   "cell_type": "code",
   "execution_count": 39,
   "metadata": {},
   "outputs": [
    {
     "data": {
      "text/plain": [
       "[<matplotlib.lines.Line2D at 0x7f48f07c8e48>]"
      ]
     },
     "execution_count": 39,
     "metadata": {},
     "output_type": "execute_result"
    },
    {
     "data": {
      "image/png": "[encoded data removed]",
      "text/plain": [
       "<matplotlib.figure.Figure at 0x7f48f08329b0>"
      ]
     },
     "metadata": {},
     "output_type": "display_data"
    }
   ],
   "source": [
    "x_train = [[x[i]] for i in range(len(x))]\n",
    "y_train = [[y[i]] for i in range(len(y))]\n",
    "# instantiate model\n",
    "linreg = linear_model.LinearRegression()\n",
    "# fit model with data\n",
    "linreg.fit(x_train,y_train)\n",
    "# visualise fit on data\n",
    "plt.scatter(x,y,marker='x',color='k')\n",
    "plt.plot(x_train,linreg.predict(x_train),color='r',lw=3)"
   ]
  },
  {
   "cell_type": "markdown",
   "metadata": {},
   "source": [
    "Pretty poor fit overall."
   ]
  },
  {
   "cell_type": "markdown",
   "metadata": {},
   "source": [
    "### Use GP with optimised hyperparamters for this model class [GPR]"
   ]
  },
  {
   "cell_type": "code",
   "execution_count": 98,
   "metadata": {},
   "outputs": [],
   "source": [
    "# fold noise into the kernel by using the Kroenecker delta iff x == xx\n",
    "x = np.array([-1.5,-.9,-.75,-.6,-.25,0])\n",
    "y = np.array([-1.8,-1.2,-.3,.2,.5,.6])\n",
    "sigma_n = np.var(y)\n",
    "n = len(y)"
   ]
  },
  {
   "cell_type": "code",
   "execution_count": 99,
   "metadata": {},
   "outputs": [],
   "source": [
    "# build funky kernel (still not sure why this one was used)\n",
    "def kernel(x,xx,theta1,theta2):\n",
    "    \"\"\"\n",
    "    x :: first independent input\n",
    "    xx :: second independent input\n",
    "    \"\"\"\n",
    "    l = np.exp(theta1)\n",
    "    sigma = np.exp(2*theta2)\n",
    "    # Kroenecker delta used on far right\n",
    "    return sigma * np.exp( -((x - xx) ** 2)/l ) + sigma_n*int(x == xx)\n",
    "\n",
    "def make_K(theta1,theta2):\n",
    "    \"\"\"\n",
    "    Populate covariance matrix (i.e. initialise for optimisation)\n",
    "    \"\"\"\n",
    "    K = np.zeros((n,n))\n",
    "    for i in range(n):\n",
    "        for j in range(n):\n",
    "            K[i,j] = kernel(x[i],x[j],theta1,theta2)\n",
    "    return K\n",
    "\n",
    "# first partial derivative\n",
    "def dK_theta1(theta1,theta2):\n",
    "    l = np.exp(theta1)\n",
    "    sigma = np.exp(2*theta2)\n",
    "    # partial derivatives in a matrix\n",
    "    K = np.zeros((n,n))\n",
    "    for i in range(n):\n",
    "        for j in range(n):\n",
    "            K[i,j] = sigma*np.exp((-(x[i]-x[j])**2)/l)*((x[i]-x[j])**2)/l\n",
    "    return K\n",
    "\n",
    "# second partial derivative\n",
    "def dK_theta2(theta1,theta2):\n",
    "    l = np.exp(theta1)\n",
    "    sigma = np.exp(2*theta2)\n",
    "    # partial derivatives in a matrix\n",
    "    K = np.zeros((n,n))\n",
    "    for i in range(n):\n",
    "        for j in range(n):\n",
    "            K[i,j] = 2*sigma*np.exp((-(x[i]-x[j])**2)/l)\n",
    "    return K\n",
    "\n",
    "# Log likelihood gradient \n",
    "def logLikGrad(theta1,theta2):\n",
    "    w = np.zeros(2) # of size two since we only have two hypers in kernel\n",
    "    K = make_K(theta1,theta2) # instantiate covariance matrix\n",
    "    Kinv = np.linalg.inv(K) # get inverse of covariance matrix\n",
    "    # get partial derivatives\n",
    "    dKdt1 = dK_theta1(theta1,theta2)\n",
    "    dKdt2 = dK_theta2(theta1,theta2)\n",
    "    # main calc of gradient of the marginal likelihood conditioned on data and params\n",
    "    w[0] = -0.5*(np.einsum('ij,ji->',Kinv,dKdt1) + np.dot(np.dot(np.dot(np.dot(y.T,Kinv),dKdt1),Kinv),y))\n",
    "    w[1] = -0.5*(np.einsum('ij,ji->',Kinv,dKdt2) + np.dot(np.dot(np.dot(np.dot(y.T,Kinv),dKdt2),Kinv),y))\n",
    "    return w"
   ]
  },
  {
   "cell_type": "code",
   "execution_count": 100,
   "metadata": {},
   "outputs": [],
   "source": [
    "# optimise hyperparameters\n",
    "def train(epochs=1000,stepsize=0.01):\n",
    "    # initialise weights\n",
    "    w = np.random.rand(2)\n",
    "    # loop for number of epochs\n",
    "    for i in range(epochs):\n",
    "        w += stepsize*logLikGrad(w[0],w[1])\n",
    "    return(w)"
   ]
  },
  {
   "cell_type": "code",
   "execution_count": 84,
   "metadata": {},
   "outputs": [],
   "source": [
    "# optimise hyperparameters\n",
    "w = train()"
   ]
  },
  {
   "cell_type": "code",
   "execution_count": 123,
   "metadata": {},
   "outputs": [],
   "source": [
    "# log likelihood -- need later\n",
    "def logLik(theta1,theta2):\n",
    "    K = make_K(theta1,theta2) # instantiate covariance matrix\n",
    "    Kinv = np.linalg.inv(K) # get inverse of covariance matrix\n",
    "    return -0.5*(np.log(np.linalg.det(K)) + np.dot(np.dot(y.T,Kinv),y))\n",
    "\n",
    "def create_K_star(x_new,theta1,theta2):\n",
    "    K_star = np.zeros((1,n))\n",
    "    for i in range(n):\n",
    "        K_star = kernel(x_new,x[i],theta1,theta2)\n",
    "    return K_star\n",
    "\n",
    "def predict_with_error(x_new,theta1,theta2,Kinv):\n",
    "    \"\"\"\n",
    "    Implements equations 8 and 9 of Mark Elben's tutorial.\n",
    "    \"\"\"\n",
    "    K_star = create_K_star(x_new,theta1,theta2)\n",
    "    K_star_star = kernel(x_new,x_new,theta1,theta2)\n",
    "    y_bar_star = np.dot(np.dot(K_star,Kinv),y)\n",
    "    var_y_bar_star = K_star_star - np.dot(np.dot(K_star,Kinv),K_star.T)\n",
    "    return(y_bar_star[0],var_y_bar_star[0][0])\n",
    "\n",
    "# Final function to run toy example\n",
    "def plot_preds(theta1,theta2,xmin = np.min(x)-1,xmax = np.max(x)+1,by = .1):\n",
    "    K = make_K(theta1,theta2)\n",
    "    Kinv = np.linalg.inv(K)\n",
    "    px = np.arange(xmin,xmax,by)\n",
    "    # prediction\n",
    "    py = np.array([predict_with_error(x_new,theta1,theta2,Kinv)[0] for x_new in px])\n",
    "    # error in prediction\n",
    "    errs = np.array([predict_with_error(x_new,theta1,theta2,Kinv)[1] for x_new in px])\n",
    "    lower = py - 1.96*np.sqrt(errs)\n",
    "    upper = py + 1.96*np.sqrt(errs)\n",
    "    # plots\n",
    "    plt.plot(x,y,'bo',label='Sample data')\n",
    "    plt.plot(px,py,'r-',label='Regression line')\n",
    "    plt.plot(px,lower,'b--',label='lower confidence bound')\n",
    "    plt.plot(px,upper,'b--',label='upper confidence bound')\n",
    "    plt.legend(loc='center',ncol=4)"
   ]
  },
  {
   "cell_type": "code",
   "execution_count": 124,
   "metadata": {},
   "outputs": [
    {
     "name": "stdout",
     "output_type": "stream",
     "text": [
      "1.02839428304791 -2.859211965795813\n"
     ]
    }
   ],
   "source": [
    "# optimise hyperparameters conditioned on the data\n",
    "theta1,theta2=train()\n",
    "print(theta1,theta2)"
   ]
  },
  {
   "cell_type": "code",
   "execution_count": 125,
   "metadata": {},
   "outputs": [
    {
     "data": {
      "image/png": "[encoded data removed]",
      "text/plain": [
       "<matplotlib.figure.Figure at 0x7f48edaa87b8>"
      ]
     },
     "metadata": {},
     "output_type": "display_data"
    }
   ],
   "source": [
    "plot_preds(theta1,theta2)"
   ]
  },
  {
   "cell_type": "markdown",
   "metadata": {},
   "source": [
    "# Dan Foreman's GP tutorial"
   ]
  },
  {
   "cell_type": "markdown",
   "metadata": {},
   "source": [
    "https://github.com/dfm/gp/blob/master/worksheet.ipynb"
   ]
  },
  {
   "cell_type": "markdown",
   "metadata": {},
   "source": [
    "### Mantra: do not fucking loop in python --> it is slow!"
   ]
  },
  {
   "cell_type": "code",
   "execution_count": 3,
   "metadata": {},
   "outputs": [],
   "source": [
    "# import the specific gp package\n"
   ]
  },
  {
   "cell_type": "code",
   "execution_count": 5,
   "metadata": {},
   "outputs": [
    {
     "ename": "AttributeError",
     "evalue": "module 'gp' has no attribute 'SillyTransitModel'",
     "output_type": "error",
     "traceback": [
      "\u001b[0;31m---------------------------------------------------------------------------\u001b[0m",
      "\u001b[0;31mAttributeError\u001b[0m                            Traceback (most recent call last)",
      "\u001b[0;32m<ipython-input-5-cbdf48736586>\u001b[0m in \u001b[0;36m<module>\u001b[0;34m()\u001b[0m\n\u001b[1;32m      1\u001b[0m \u001b[0mt\u001b[0m \u001b[0;34m=\u001b[0m \u001b[0mnp\u001b[0m\u001b[0;34m.\u001b[0m\u001b[0mlinspace\u001b[0m\u001b[0;34m(\u001b[0m\u001b[0;34m-\u001b[0m\u001b[0;36m5\u001b[0m\u001b[0;34m,\u001b[0m\u001b[0;36m5\u001b[0m\u001b[0;34m,\u001b[0m\u001b[0;36m5000\u001b[0m\u001b[0;34m)\u001b[0m\u001b[0;34m\u001b[0m\u001b[0m\n\u001b[1;32m      2\u001b[0m \u001b[0;31m# model\u001b[0m\u001b[0;34m\u001b[0m\u001b[0;34m\u001b[0m\u001b[0m\n\u001b[0;32m----> 3\u001b[0;31m \u001b[0mmodel\u001b[0m \u001b[0;34m=\u001b[0m \u001b[0mgp\u001b[0m\u001b[0;34m.\u001b[0m\u001b[0mSillyTransitModel\u001b[0m\u001b[0;34m(\u001b[0m\u001b[0mlog_depth\u001b[0m\u001b[0;34m=\u001b[0m\u001b[0mnp\u001b[0m\u001b[0;34m.\u001b[0m\u001b[0mlog\u001b[0m\u001b[0;34m(\u001b[0m\u001b[0;36m200.0\u001b[0m\u001b[0;34m)\u001b[0m\u001b[0;34m,\u001b[0m \u001b[0mlog_duration\u001b[0m\u001b[0;34m=\u001b[0m\u001b[0mnp\u001b[0m\u001b[0;34m.\u001b[0m\u001b[0mlog\u001b[0m\u001b[0;34m(\u001b[0m\u001b[0;36m0.5\u001b[0m\u001b[0;34m)\u001b[0m\u001b[0;34m,\u001b[0m \u001b[0mtime\u001b[0m\u001b[0;34m=\u001b[0m\u001b[0;36m0.0\u001b[0m\u001b[0;34m)\u001b[0m\u001b[0;34m\u001b[0m\u001b[0m\n\u001b[0m\u001b[1;32m      4\u001b[0m \u001b[0;34m\u001b[0m\u001b[0m\n\u001b[1;32m      5\u001b[0m \u001b[0;31m# M = gp.SillyTransitModel(log_depth=np.log(200.0),log_duration=np.log(0.5),time=0.)\u001b[0m\u001b[0;34m\u001b[0m\u001b[0;34m\u001b[0m\u001b[0m\n",
      "\u001b[0;31mAttributeError\u001b[0m: module 'gp' has no attribute 'SillyTransitModel'"
     ]
    }
   ],
   "source": [
    "t = np.linspace(-5,5,5000)\n",
    "# model\n",
    "model = gp.SillyTransitModel(log_depth=np.log(200.0), log_duration=np.log(0.5), time=0.0)\n",
    "\n",
    "# M = gp.SillyTransitModel(log_depth=np.log(200.0),log_duration=np.log(0.5),time=0.)"
   ]
  }
 ],
 "metadata": {
  "kernelspec": {
   "display_name": "Python 3",
   "language": "python",
   "name": "python3"
  },
  "language_info": {
   "codemirror_mode": {
    "name": "ipython",
    "version": 3
   },
   "file_extension": ".py",
   "mimetype": "text/x-python",
   "name": "python",
   "nbconvert_exporter": "python",
   "pygments_lexer": "ipython3",
   "version": "3.5.2"
  }
 },
 "nbformat": 4,
 "nbformat_minor": 2
}
